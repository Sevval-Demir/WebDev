{
 "cells": [
  {
   "cell_type": "code",
   "execution_count": null,
   "id": "8dc3c3ed-b207-41cf-b3b7-884ceb19195d",
   "metadata": {},
   "outputs": [],
   "source": [
    "import os\n",
    "import csv\n",
    "import mediapipe as mp\n",
    "import cv2\n",
    "\n",
    "# Mediapipe ayarları\n",
    "mp_hands = mp.solutions.hands\n",
    "hands = mp_hands.Hands(static_image_mode=False, max_num_hands=2, min_detection_confidence=0.5)\n",
    "mp_drawing = mp.solutions.drawing_utils\n"
   ]
  },
  {
   "cell_type": "code",
   "execution_count": null,
   "id": "f0a1373e-ed78-45ee-ba1a-426dfbcf7915",
   "metadata": {},
   "outputs": [],
   "source": [
    "def process_video(video_path):\n",
    "    cap = cv2.VideoCapture(video_path)\n",
    "    results = []\n",
    "    while cap.isOpened():\n",
    "        ret, frame = cap.read()\n",
    "        if not ret:\n",
    "            break\n",
    "        frame_rgb = cv2.cvtColor(frame, cv2.COLOR_BGR2RGB)\n",
    "        result = hands.process(frame_rgb)\n",
    "        if result.multi_hand_landmarks:\n",
    "            for hand_landmarks in result.multi_hand_landmarks:\n",
    "                for i, landmark in enumerate(hand_landmarks.landmark):\n",
    "                    results.append([cap.get(cv2.CAP_PROP_POS_FRAMES), i, landmark.x, landmark.y, landmark.z])\n",
    "    cap.release()\n",
    "    return results"
   ]
  },
  {
   "cell_type": "code",
   "execution_count": null,
   "id": "380f901b-8804-4565-96dd-1f00732aa064",
   "metadata": {},
   "outputs": [],
   "source": [
    "def process_directory(input_dir, output_csv):\n",
    "    all_results = []\n",
    "    for root, _, files in os.walk(input_dir):\n",
    "        for file in files:\n",
    "            if file.endswith('.mp4'):  # Video uzantısını kontrol et\n",
    "                video_path = os.path.join(root, file)\n",
    "                print(f\"Processing {video_path}\")\n",
    "                results = process_video(video_path)\n",
    "                for r in results:\n",
    "                    all_results.append([video_path] + r)\n",
    "    \n",
    "    # Sonuçları CSV'ye yaz\n",
    "    with open(output_csv, 'w', newline='') as f:\n",
    "        writer = csv.writer(f)\n",
    "        writer.writerow([\"Video\", \"Frame\", \"Point Index\", \"X\", \"Y\", \"Z\"])\n",
    "        writer.writerows(all_results)"
   ]
  },
  {
   "cell_type": "code",
   "execution_count": null,
   "id": "252ba5eb-22f5-4530-8850-d4a759860ee2",
   "metadata": {},
   "outputs": [],
   "source": [
    "# Kullanım\n",
    "input_directory = \"veri_klasörü\"  # Klasör yolunu buraya gir\n",
    "output_csv_path = \"sonuclar.csv\"\n",
    "process_directory(input_directory, output_csv_path)"
   ]
  },
  {
   "cell_type": "code",
   "execution_count": null,
   "id": "dfb21d96-eb8b-4b0a-9115-d0c7b94af31d",
   "metadata": {},
   "outputs": [],
   "source": []
  }
 ],
 "metadata": {
  "kernelspec": {
   "display_name": "Python 3 (ipykernel)",
   "language": "python",
   "name": "python3"
  },
  "language_info": {
   "codemirror_mode": {
    "name": "ipython",
    "version": 3
   },
   "file_extension": ".py",
   "mimetype": "text/x-python",
   "name": "python",
   "nbconvert_exporter": "python",
   "pygments_lexer": "ipython3",
   "version": "3.12.7"
  }
 },
 "nbformat": 4,
 "nbformat_minor": 5
}
